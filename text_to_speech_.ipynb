{
 "cells": [
  {
   "cell_type": "code",
   "execution_count": 2,
   "metadata": {},
   "outputs": [
    {
     "name": "stdout",
     "output_type": "stream",
     "text": [
      "Collecting gTTS\n",
      "  Downloading gTTS-2.2.4-py3-none-any.whl (26 kB)\n",
      "Requirement already satisfied: click in c:\\users\\user\\anaconda3\\lib\\site-packages (from gTTS) (8.0.4)\n",
      "Requirement already satisfied: requests in c:\\users\\user\\anaconda3\\lib\\site-packages (from gTTS) (2.27.1)\n",
      "Requirement already satisfied: six in c:\\users\\user\\anaconda3\\lib\\site-packages (from gTTS) (1.16.0)\n",
      "Requirement already satisfied: colorama in c:\\users\\user\\anaconda3\\lib\\site-packages (from click->gTTS) (0.4.4)\n",
      "Requirement already satisfied: urllib3<1.27,>=1.21.1 in c:\\users\\user\\anaconda3\\lib\\site-packages (from requests->gTTS) (1.26.9)\n",
      "Requirement already satisfied: certifi>=2017.4.17 in c:\\users\\user\\anaconda3\\lib\\site-packages (from requests->gTTS) (2021.10.8)\n",
      "Requirement already satisfied: charset-normalizer~=2.0.0 in c:\\users\\user\\anaconda3\\lib\\site-packages (from requests->gTTS) (2.0.4)\n",
      "Requirement already satisfied: idna<4,>=2.5 in c:\\users\\user\\anaconda3\\lib\\site-packages (from requests->gTTS) (3.3)\n",
      "Installing collected packages: gTTS\n",
      "Successfully installed gTTS-2.2.4\n",
      "Note: you may need to restart the kernel to use updated packages.\n"
     ]
    }
   ],
   "source": [
    "pip install gTTS"
   ]
  },
  {
   "cell_type": "code",
   "execution_count": 3,
   "metadata": {},
   "outputs": [],
   "source": [
    "from tkinter import *\n",
    "from gtts import gTTS"
   ]
  },
  {
   "cell_type": "code",
   "execution_count": 42,
   "metadata": {},
   "outputs": [],
   "source": [
    "# this module helps to\n",
    "# play the converted audio \n",
    "import os\n",
    " \n",
    "\n",
    "root = Tk()#bir obje olusturduk\n",
    " \n",
    "#penceremiz icin iki ayri Frame ve özelliklerini tanimliyioruz\n",
    "frame1 = Frame(root,\n",
    "               bg = \"red\",\n",
    "               height = \"150\")\n",
    "frame1.pack(fill = X)\n",
    " \n",
    " \n",
    "frame2 = Frame(root,\n",
    "               bg = \"blue\",\n",
    "               height = \"750\")\n",
    "frame2.pack(fill=X)\n",
    " \n",
    " \n",
    " \n",
    "#pencerede gösterilecek label özellikleri giriyoruz\n",
    "label = Label(frame1, text = \"Text to Speech\",\n",
    "              font = \"bold, 30\",\n",
    "              bg = \"lightpink\")\n",
    " \n",
    "label.place(x = 180, y = 70)\n",
    "\n",
    "label.place(x = 180, y = 70)\n",
    "label2=Label(frame1,text=\"by: Mervan Özekinci\",\n",
    "             font=\"bold 18\",bg=\"white\")\n",
    "label2.place(x=0,y=10)\n",
    "\n",
    "label3=Label(frame2,text=\"Okunacak Texti lütfen kutucuga giriniz!\",\n",
    "             font=\"bold 18\",bg=\"white\")\n",
    "label3.place(x=140,y=10)\n",
    " \n",
    "# textimizi girecegimiz alani olusturalim\n",
    "entry = Entry(frame2, width = 45,\n",
    "              bd = 4, font = 14)\n",
    " \n",
    "entry.place(x = 100, y = 72)\n",
    "entry.insert(0, \"\")\n",
    " \n",
    "#alinacak texti sese dönüstürecek fonksiyonun tanimi\n",
    "def play():\n",
    " \n",
    "  \n",
    "    language = \"tr\"#text bu dilde algilansin\n",
    " \n",
    "    myobj = gTTS(text = entry.get(),#texti kutucuktan al\n",
    "                lang = language,#dili yukarida tanimladik\n",
    "                slow = False)#hizi yavas olmasin\n",
    " \n",
    " \n",
    " \n",
    "   #textin sesli halinin kaydi\n",
    "    myobj.save(\"text_kaydi.wav\")\n",
    "    os.system(\"text_kaydi.wav\")\n",
    " \n",
    "#buton tanimlamasi\n",
    "\n",
    "btn = Button(frame2, text = \"SUBMIT\",\n",
    "             width = \"15\", pady = 10,\n",
    "             font = \"bold, 15\",\n",
    "             command = play, bg='yellow')\n",
    " \n",
    "btn.place(x = 250,\n",
    "          y = 130)\n",
    " \n",
    "# give a title \n",
    "root.title(\"text_to_speech_convertor\")\n",
    " \n",
    " \n",
    " \n",
    "#size özellikleri\n",
    "root.geometry(\"650x550+350+200\")\n",
    " \n",
    "# gui calistir\n",
    "root.mainloop()"
   ]
  }
 ],
 "metadata": {
  "kernelspec": {
   "display_name": "Python 3.9.12 ('base')",
   "language": "python",
   "name": "python3"
  },
  "language_info": {
   "codemirror_mode": {
    "name": "ipython",
    "version": 3
   },
   "file_extension": ".py",
   "mimetype": "text/x-python",
   "name": "python",
   "nbconvert_exporter": "python",
   "pygments_lexer": "ipython3",
   "version": "3.9.12"
  },
  "orig_nbformat": 4,
  "vscode": {
   "interpreter": {
    "hash": "a077222d77dfe082b8f1dd562ad70e458ac2ab76993a0b248ab0476e32e9e8dd"
   }
  }
 },
 "nbformat": 4,
 "nbformat_minor": 2
}
