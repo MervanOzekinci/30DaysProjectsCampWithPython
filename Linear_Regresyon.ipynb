{
  "nbformat": 4,
  "nbformat_minor": 0,
  "metadata": {
    "colab": {
      "name": "BTK_Linear_Regresyon.ipynb",
      "provenance": [],
      "collapsed_sections": []
    },
    "kernelspec": {
      "name": "python3",
      "display_name": "Python 3"
    },
    "language_info": {
      "name": "python"
    }
  },
  "cells": [
    {
      "cell_type": "code",
      "execution_count": null,
      "metadata": {
        "id": "YLUegXW_vCv-"
      },
      "outputs": [],
      "source": [
        "#Kütüphanelerin ice aktar\n",
        "import pandas as pd\n",
        "import matplotlib.pyplot as plt\n",
        "import numpy as np"
      ]
    },
    {
      "cell_type": "code",
      "source": [
        "#sklearn kütüphanesi ice aktar\n",
        "from sklearn.linear_model import LinearRegression"
      ],
      "metadata": {
        "id": "waQ7hYM5vI6O"
      },
      "execution_count": null,
      "outputs": []
    },
    {
      "cell_type": "code",
      "source": [
        "#veriyi ice aktar \n",
        "df=pd.read_csv(\"/content/dogrusal_regresyon_veriseti_20220209.csv\",sep=\";\")\n",
        "df.head()"
      ],
      "metadata": {
        "colab": {
          "base_uri": "https://localhost:8080/",
          "height": 206
        },
        "id": "t7AheRZcvI-1",
        "outputId": "de65c292-9a8a-43e2-bf13-ce41e8d17f92"
      },
      "execution_count": null,
      "outputs": [
        {
          "output_type": "execute_result",
          "data": {
            "text/plain": [
              "   deneyim  maas\n",
              "0      0.5  2500\n",
              "1      0.0  2250\n",
              "2      1.0  2750\n",
              "3      5.0  8000\n",
              "4      8.0  9000"
            ],
            "text/html": [
              "\n",
              "  <div id=\"df-ed80195f-0799-4031-9ec5-6324715533b1\">\n",
              "    <div class=\"colab-df-container\">\n",
              "      <div>\n",
              "<style scoped>\n",
              "    .dataframe tbody tr th:only-of-type {\n",
              "        vertical-align: middle;\n",
              "    }\n",
              "\n",
              "    .dataframe tbody tr th {\n",
              "        vertical-align: top;\n",
              "    }\n",
              "\n",
              "    .dataframe thead th {\n",
              "        text-align: right;\n",
              "    }\n",
              "</style>\n",
              "<table border=\"1\" class=\"dataframe\">\n",
              "  <thead>\n",
              "    <tr style=\"text-align: right;\">\n",
              "      <th></th>\n",
              "      <th>deneyim</th>\n",
              "      <th>maas</th>\n",
              "    </tr>\n",
              "  </thead>\n",
              "  <tbody>\n",
              "    <tr>\n",
              "      <th>0</th>\n",
              "      <td>0.5</td>\n",
              "      <td>2500</td>\n",
              "    </tr>\n",
              "    <tr>\n",
              "      <th>1</th>\n",
              "      <td>0.0</td>\n",
              "      <td>2250</td>\n",
              "    </tr>\n",
              "    <tr>\n",
              "      <th>2</th>\n",
              "      <td>1.0</td>\n",
              "      <td>2750</td>\n",
              "    </tr>\n",
              "    <tr>\n",
              "      <th>3</th>\n",
              "      <td>5.0</td>\n",
              "      <td>8000</td>\n",
              "    </tr>\n",
              "    <tr>\n",
              "      <th>4</th>\n",
              "      <td>8.0</td>\n",
              "      <td>9000</td>\n",
              "    </tr>\n",
              "  </tbody>\n",
              "</table>\n",
              "</div>\n",
              "      <button class=\"colab-df-convert\" onclick=\"convertToInteractive('df-ed80195f-0799-4031-9ec5-6324715533b1')\"\n",
              "              title=\"Convert this dataframe to an interactive table.\"\n",
              "              style=\"display:none;\">\n",
              "        \n",
              "  <svg xmlns=\"http://www.w3.org/2000/svg\" height=\"24px\"viewBox=\"0 0 24 24\"\n",
              "       width=\"24px\">\n",
              "    <path d=\"M0 0h24v24H0V0z\" fill=\"none\"/>\n",
              "    <path d=\"M18.56 5.44l.94 2.06.94-2.06 2.06-.94-2.06-.94-.94-2.06-.94 2.06-2.06.94zm-11 1L8.5 8.5l.94-2.06 2.06-.94-2.06-.94L8.5 2.5l-.94 2.06-2.06.94zm10 10l.94 2.06.94-2.06 2.06-.94-2.06-.94-.94-2.06-.94 2.06-2.06.94z\"/><path d=\"M17.41 7.96l-1.37-1.37c-.4-.4-.92-.59-1.43-.59-.52 0-1.04.2-1.43.59L10.3 9.45l-7.72 7.72c-.78.78-.78 2.05 0 2.83L4 21.41c.39.39.9.59 1.41.59.51 0 1.02-.2 1.41-.59l7.78-7.78 2.81-2.81c.8-.78.8-2.07 0-2.86zM5.41 20L4 18.59l7.72-7.72 1.47 1.35L5.41 20z\"/>\n",
              "  </svg>\n",
              "      </button>\n",
              "      \n",
              "  <style>\n",
              "    .colab-df-container {\n",
              "      display:flex;\n",
              "      flex-wrap:wrap;\n",
              "      gap: 12px;\n",
              "    }\n",
              "\n",
              "    .colab-df-convert {\n",
              "      background-color: #E8F0FE;\n",
              "      border: none;\n",
              "      border-radius: 50%;\n",
              "      cursor: pointer;\n",
              "      display: none;\n",
              "      fill: #1967D2;\n",
              "      height: 32px;\n",
              "      padding: 0 0 0 0;\n",
              "      width: 32px;\n",
              "    }\n",
              "\n",
              "    .colab-df-convert:hover {\n",
              "      background-color: #E2EBFA;\n",
              "      box-shadow: 0px 1px 2px rgba(60, 64, 67, 0.3), 0px 1px 3px 1px rgba(60, 64, 67, 0.15);\n",
              "      fill: #174EA6;\n",
              "    }\n",
              "\n",
              "    [theme=dark] .colab-df-convert {\n",
              "      background-color: #3B4455;\n",
              "      fill: #D2E3FC;\n",
              "    }\n",
              "\n",
              "    [theme=dark] .colab-df-convert:hover {\n",
              "      background-color: #434B5C;\n",
              "      box-shadow: 0px 1px 3px 1px rgba(0, 0, 0, 0.15);\n",
              "      filter: drop-shadow(0px 1px 2px rgba(0, 0, 0, 0.3));\n",
              "      fill: #FFFFFF;\n",
              "    }\n",
              "  </style>\n",
              "\n",
              "      <script>\n",
              "        const buttonEl =\n",
              "          document.querySelector('#df-ed80195f-0799-4031-9ec5-6324715533b1 button.colab-df-convert');\n",
              "        buttonEl.style.display =\n",
              "          google.colab.kernel.accessAllowed ? 'block' : 'none';\n",
              "\n",
              "        async function convertToInteractive(key) {\n",
              "          const element = document.querySelector('#df-ed80195f-0799-4031-9ec5-6324715533b1');\n",
              "          const dataTable =\n",
              "            await google.colab.kernel.invokeFunction('convertToInteractive',\n",
              "                                                     [key], {});\n",
              "          if (!dataTable) return;\n",
              "\n",
              "          const docLinkHtml = 'Like what you see? Visit the ' +\n",
              "            '<a target=\"_blank\" href=https://colab.research.google.com/notebooks/data_table.ipynb>data table notebook</a>'\n",
              "            + ' to learn more about interactive tables.';\n",
              "          element.innerHTML = '';\n",
              "          dataTable['output_type'] = 'display_data';\n",
              "          await google.colab.output.renderOutput(dataTable, element);\n",
              "          const docLink = document.createElement('div');\n",
              "          docLink.innerHTML = docLinkHtml;\n",
              "          element.appendChild(docLink);\n",
              "        }\n",
              "      </script>\n",
              "    </div>\n",
              "  </div>\n",
              "  "
            ]
          },
          "metadata": {},
          "execution_count": 6
        }
      ]
    },
    {
      "cell_type": "code",
      "source": [
        "plt.scatter(df.deneyim,df.maas)\n",
        "plt.xlabel(\"Deneyim (Yil)\")\n",
        "plt.ylabel(\"Maas (TL)\")\n",
        "plt.title(\"Deneyim Maas Iliskisi\")\n",
        "plt.grid(True)"
      ],
      "metadata": {
        "colab": {
          "base_uri": "https://localhost:8080/",
          "height": 295
        },
        "id": "98gtgW_zvJB2",
        "outputId": "d80d439f-81b5-49f6-b1dd-a8d13e7777ea"
      },
      "execution_count": null,
      "outputs": [
        {
          "output_type": "display_data",
          "data": {
            "text/plain": [
              "<Figure size 432x288 with 1 Axes>"
            ],
            "image/png": "[encoded data removed]"
          },
          "metadata": {
            "needs_background": "light"
          }
        }
      ]
    },
    {
      "cell_type": "code",
      "source": [
        "#Dogrusal Regession Egitim Modeli\n",
        "\n",
        "#Dogrusal Regrassion Modeli\n",
        "\n",
        "reg=LinearRegression()\n",
        "\n",
        "#Data icerisinde bulunan maas ve deneim sütunlarini numpy array'e cevur\n",
        "x=df.deneyim.values.reshape(-1,1)#bir sütün gerisi kac satir olursa olsun\n",
        "y=df.maas.values.reshape(-1,1)#bir sütün gerisi kac satir olursa olsun\n",
        "\n",
        "#dogrusal regresyon egitimi\n",
        "\n",
        "reg.fit(x,y)"
      ],
      "metadata": {
        "colab": {
          "base_uri": "https://localhost:8080/"
        },
        "id": "yifOXmJivJFF",
        "outputId": "f37eb2ae-abaf-40e8-b44f-e4a1f28f1568"
      },
      "execution_count": null,
      "outputs": [
        {
          "output_type": "execute_result",
          "data": {
            "text/plain": [
              "LinearRegression()"
            ]
          },
          "metadata": {},
          "execution_count": 39
        }
      ]
    },
    {
      "cell_type": "code",
      "source": [
        "reg.coef_\n"
      ],
      "metadata": {
        "colab": {
          "base_uri": "https://localhost:8080/"
        },
        "id": "55_0h72GvJHt",
        "outputId": "94b977f3-1c7a-4601-81c4-b2e204e2b258"
      },
      "execution_count": null,
      "outputs": [
        {
          "output_type": "execute_result",
          "data": {
            "text/plain": [
              "array([[1138.34819698]])"
            ]
          },
          "metadata": {},
          "execution_count": 40
        }
      ]
    },
    {
      "cell_type": "code",
      "source": [
        "reg.intercept_"
      ],
      "metadata": {
        "colab": {
          "base_uri": "https://localhost:8080/"
        },
        "id": "0y_bMNYgvJKV",
        "outputId": "bb0cbcc0-32ec-44c4-afbd-3ae09156b259"
      },
      "execution_count": null,
      "outputs": [
        {
          "output_type": "execute_result",
          "data": {
            "text/plain": [
              "array([1663.89519747])"
            ]
          },
          "metadata": {},
          "execution_count": 41
        }
      ]
    },
    {
      "cell_type": "code",
      "source": [
        "deneyim=np.array(np.arange(17)).reshape(-1,1)\n",
        "plt.figure()\n",
        "plt.scatter(x,y)\n",
        "\n",
        "#deneyime göre maas tahmini yapalim\n",
        "y_head=reg.predict(deneyim) #y_head= maas\n",
        "\n",
        "#yazdiralim\n",
        "\n",
        "plt.plot(deneyim,y_head,color=\"r\")\n",
        "plt.xlabel(\"Deneyim(Yil)\")\n",
        "plt.ylabel(\"Maas(Tl)\")\n",
        "plt.title(\"Deneyim Maas Iliskisi\")\n",
        "plt.grid(True)"
      ],
      "metadata": {
        "colab": {
          "base_uri": "https://localhost:8080/",
          "height": 295
        },
        "id": "xxx0LIvnvJTd",
        "outputId": "8a2381b1-9908-475a-84a9-ab7864cf1666"
      },
      "execution_count": null,
      "outputs": [
        {
          "output_type": "display_data",
          "data": {
            "text/plain": [
              "<Figure size 432x288 with 1 Axes>"
            ],
            "image/png": "[encoded data removed]"
          },
          "metadata": {
            "needs_background": "light"
          }
        }
      ]
    },
    {
      "cell_type": "markdown",
      "source": [
        "#Coklu regresyon\n",
        "\n",
        "dogrusal reg >> y=bo+b1X1\n",
        "\n",
        "coklu dogrusal reg>> y=b0+b1X1+b2X2+...+bnXn"
      ],
      "metadata": {
        "id": "CYvbIv0CCQw4"
      }
    },
    {
      "cell_type": "code",
      "source": [
        "df=pd.read_csv(\"/content/coklu_dogrusal_regresyon_veriseti_20220209.csv\", sep=\";\")\n",
        "df.head()"
      ],
      "metadata": {
        "colab": {
          "base_uri": "https://localhost:8080/",
          "height": 206
        },
        "id": "cuXanz_SCRPE",
        "outputId": "7c043525-c4b2-497d-826c-14af50a1fcca"
      },
      "execution_count": null,
      "outputs": [
        {
          "output_type": "execute_result",
          "data": {
            "text/plain": [
              "   deneyim  maas  yas\n",
              "0      0.5  2500   22\n",
              "1      0.0  2250   21\n",
              "2      1.0  2750   23\n",
              "3      5.0  8000   25\n",
              "4      8.0  9000   28"
            ],
            "text/html": [
              "\n",
              "  <div id=\"df-d63751c9-c02b-4697-8f13-f7180a0c6215\">\n",
              "    <div class=\"colab-df-container\">\n",
              "      <div>\n",
              "<style scoped>\n",
              "    .dataframe tbody tr th:only-of-type {\n",
              "        vertical-align: middle;\n",
              "    }\n",
              "\n",
              "    .dataframe tbody tr th {\n",
              "        vertical-align: top;\n",
              "    }\n",
              "\n",
              "    .dataframe thead th {\n",
              "        text-align: right;\n",
              "    }\n",
              "</style>\n",
              "<table border=\"1\" class=\"dataframe\">\n",
              "  <thead>\n",
              "    <tr style=\"text-align: right;\">\n",
              "      <th></th>\n",
              "      <th>deneyim</th>\n",
              "      <th>maas</th>\n",
              "      <th>yas</th>\n",
              "    </tr>\n",
              "  </thead>\n",
              "  <tbody>\n",
              "    <tr>\n",
              "      <th>0</th>\n",
              "      <td>0.5</td>\n",
              "      <td>2500</td>\n",
              "      <td>22</td>\n",
              "    </tr>\n",
              "    <tr>\n",
              "      <th>1</th>\n",
              "      <td>0.0</td>\n",
              "      <td>2250</td>\n",
              "      <td>21</td>\n",
              "    </tr>\n",
              "    <tr>\n",
              "      <th>2</th>\n",
              "      <td>1.0</td>\n",
              "      <td>2750</td>\n",
              "      <td>23</td>\n",
              "    </tr>\n",
              "    <tr>\n",
              "      <th>3</th>\n",
              "      <td>5.0</td>\n",
              "      <td>8000</td>\n",
              "      <td>25</td>\n",
              "    </tr>\n",
              "    <tr>\n",
              "      <th>4</th>\n",
              "      <td>8.0</td>\n",
              "      <td>9000</td>\n",
              "      <td>28</td>\n",
              "    </tr>\n",
              "  </tbody>\n",
              "</table>\n",
              "</div>\n",
              "      <button class=\"colab-df-convert\" onclick=\"convertToInteractive('df-d63751c9-c02b-4697-8f13-f7180a0c6215')\"\n",
              "              title=\"Convert this dataframe to an interactive table.\"\n",
              "              style=\"display:none;\">\n",
              "        \n",
              "  <svg xmlns=\"http://www.w3.org/2000/svg\" height=\"24px\"viewBox=\"0 0 24 24\"\n",
              "       width=\"24px\">\n",
              "    <path d=\"M0 0h24v24H0V0z\" fill=\"none\"/>\n",
              "    <path d=\"M18.56 5.44l.94 2.06.94-2.06 2.06-.94-2.06-.94-.94-2.06-.94 2.06-2.06.94zm-11 1L8.5 8.5l.94-2.06 2.06-.94-2.06-.94L8.5 2.5l-.94 2.06-2.06.94zm10 10l.94 2.06.94-2.06 2.06-.94-2.06-.94-.94-2.06-.94 2.06-2.06.94z\"/><path d=\"M17.41 7.96l-1.37-1.37c-.4-.4-.92-.59-1.43-.59-.52 0-1.04.2-1.43.59L10.3 9.45l-7.72 7.72c-.78.78-.78 2.05 0 2.83L4 21.41c.39.39.9.59 1.41.59.51 0 1.02-.2 1.41-.59l7.78-7.78 2.81-2.81c.8-.78.8-2.07 0-2.86zM5.41 20L4 18.59l7.72-7.72 1.47 1.35L5.41 20z\"/>\n",
              "  </svg>\n",
              "      </button>\n",
              "      \n",
              "  <style>\n",
              "    .colab-df-container {\n",
              "      display:flex;\n",
              "      flex-wrap:wrap;\n",
              "      gap: 12px;\n",
              "    }\n",
              "\n",
              "    .colab-df-convert {\n",
              "      background-color: #E8F0FE;\n",
              "      border: none;\n",
              "      border-radius: 50%;\n",
              "      cursor: pointer;\n",
              "      display: none;\n",
              "      fill: #1967D2;\n",
              "      height: 32px;\n",
              "      padding: 0 0 0 0;\n",
              "      width: 32px;\n",
              "    }\n",
              "\n",
              "    .colab-df-convert:hover {\n",
              "      background-color: #E2EBFA;\n",
              "      box-shadow: 0px 1px 2px rgba(60, 64, 67, 0.3), 0px 1px 3px 1px rgba(60, 64, 67, 0.15);\n",
              "      fill: #174EA6;\n",
              "    }\n",
              "\n",
              "    [theme=dark] .colab-df-convert {\n",
              "      background-color: #3B4455;\n",
              "      fill: #D2E3FC;\n",
              "    }\n",
              "\n",
              "    [theme=dark] .colab-df-convert:hover {\n",
              "      background-color: #434B5C;\n",
              "      box-shadow: 0px 1px 3px 1px rgba(0, 0, 0, 0.15);\n",
              "      filter: drop-shadow(0px 1px 2px rgba(0, 0, 0, 0.3));\n",
              "      fill: #FFFFFF;\n",
              "    }\n",
              "  </style>\n",
              "\n",
              "      <script>\n",
              "        const buttonEl =\n",
              "          document.querySelector('#df-d63751c9-c02b-4697-8f13-f7180a0c6215 button.colab-df-convert');\n",
              "        buttonEl.style.display =\n",
              "          google.colab.kernel.accessAllowed ? 'block' : 'none';\n",
              "\n",
              "        async function convertToInteractive(key) {\n",
              "          const element = document.querySelector('#df-d63751c9-c02b-4697-8f13-f7180a0c6215');\n",
              "          const dataTable =\n",
              "            await google.colab.kernel.invokeFunction('convertToInteractive',\n",
              "                                                     [key], {});\n",
              "          if (!dataTable) return;\n",
              "\n",
              "          const docLinkHtml = 'Like what you see? Visit the ' +\n",
              "            '<a target=\"_blank\" href=https://colab.research.google.com/notebooks/data_table.ipynb>data table notebook</a>'\n",
              "            + ' to learn more about interactive tables.';\n",
              "          element.innerHTML = '';\n",
              "          dataTable['output_type'] = 'display_data';\n",
              "          await google.colab.output.renderOutput(dataTable, element);\n",
              "          const docLink = document.createElement('div');\n",
              "          docLink.innerHTML = docLinkHtml;\n",
              "          element.appendChild(docLink);\n",
              "        }\n",
              "      </script>\n",
              "    </div>\n",
              "  </div>\n",
              "  "
            ]
          },
          "metadata": {},
          "execution_count": 67
        }
      ]
    },
    {
      "cell_type": "code",
      "source": [
        "x=df.iloc[:,[0,2]].values #deneyim ve yasi bagimsiz degiskenler olarak aldik\n",
        "x"
      ],
      "metadata": {
        "colab": {
          "base_uri": "https://localhost:8080/"
        },
        "id": "K4IyqRFKCQ0H",
        "outputId": "9db2c2b4-3158-48f8-9432-98e5713def4c"
      },
      "execution_count": null,
      "outputs": [
        {
          "output_type": "execute_result",
          "data": {
            "text/plain": [
              "array([[ 0.5, 22. ],\n",
              "       [ 0. , 21. ],\n",
              "       [ 1. , 23. ],\n",
              "       [ 5. , 25. ],\n",
              "       [ 8. , 28. ],\n",
              "       [ 4. , 23. ],\n",
              "       [15. , 35. ],\n",
              "       [ 7. , 29. ],\n",
              "       [ 3. , 22. ],\n",
              "       [ 2. , 23. ],\n",
              "       [12. , 32. ],\n",
              "       [10. , 30. ],\n",
              "       [14. , 34. ],\n",
              "       [ 6. , 27. ]])"
            ]
          },
          "metadata": {},
          "execution_count": 69
        }
      ]
    },
    {
      "cell_type": "code",
      "source": [
        "y=df.maas.values.reshape(-1,1)\n",
        "y"
      ],
      "metadata": {
        "colab": {
          "base_uri": "https://localhost:8080/"
        },
        "id": "NEMtFFYoCQ3D",
        "outputId": "7e1a7e1c-38ca-4667-bf60-913be1399ff1"
      },
      "execution_count": null,
      "outputs": [
        {
          "output_type": "execute_result",
          "data": {
            "text/plain": [
              "array([[ 2500],\n",
              "       [ 2250],\n",
              "       [ 2750],\n",
              "       [ 8000],\n",
              "       [ 9000],\n",
              "       [ 6900],\n",
              "       [20000],\n",
              "       [ 8500],\n",
              "       [ 6000],\n",
              "       [ 3500],\n",
              "       [15000],\n",
              "       [13000],\n",
              "       [18000],\n",
              "       [ 7500]])"
            ]
          },
          "metadata": {},
          "execution_count": 71
        }
      ]
    },
    {
      "cell_type": "code",
      "source": [
        "#Coklu dogrusal model egitimi"
      ],
      "metadata": {
        "id": "T3bjF7mICQ5l"
      },
      "execution_count": null,
      "outputs": []
    },
    {
      "cell_type": "code",
      "source": [
        "coklu_reg=LinearRegression()\n",
        "\n",
        "#egitim\n",
        "coklu_reg.fit(x,y)"
      ],
      "metadata": {
        "colab": {
          "base_uri": "https://localhost:8080/"
        },
        "id": "rw8jXWxmCQ8Z",
        "outputId": "357d3fa8-1f49-4d49-f777-b884079a9c58"
      },
      "execution_count": null,
      "outputs": [
        {
          "output_type": "execute_result",
          "data": {
            "text/plain": [
              "LinearRegression()"
            ]
          },
          "metadata": {},
          "execution_count": 72
        }
      ]
    },
    {
      "cell_type": "code",
      "source": [
        "#test 1\n",
        "test_verisi=np.array([[10,35]])#deneyim=10 yas=35\n",
        "test_sonuc=coklu_reg.predict(test_verisi)\n",
        "test_sonuc"
      ],
      "metadata": {
        "colab": {
          "base_uri": "https://localhost:8080/"
        },
        "id": "ZZXu_T2kCQ-5",
        "outputId": "c0506f25-c7d0-4098-dc1c-501af6d43cfb"
      },
      "execution_count": null,
      "outputs": [
        {
          "output_type": "execute_result",
          "data": {
            "text/plain": [
              "array([[11046.35815877]])"
            ]
          },
          "metadata": {},
          "execution_count": 74
        }
      ]
    },
    {
      "cell_type": "code",
      "source": [
        "#test 2\n",
        "test_verisi2=np.array([[5,35]])#deneyim=5 yas=35\n",
        "test_sonuc=coklu_reg.predict(test_verisi2)\n",
        "test_sonuc"
      ],
      "metadata": {
        "colab": {
          "base_uri": "https://localhost:8080/"
        },
        "id": "xn_mKl1fvJdS",
        "outputId": "fd95d35c-d4a2-4ecb-dc2e-29d493a72bde"
      },
      "execution_count": null,
      "outputs": [
        {
          "output_type": "execute_result",
          "data": {
            "text/plain": [
              "array([[3418.85455609]])"
            ]
          },
          "metadata": {},
          "execution_count": 76
        }
      ]
    },
    {
      "cell_type": "markdown",
      "source": [
        "#Polinomsal Regresyon\n",
        "dogrusal reg >> y=bo+b1X1\n",
        "\n",
        "coklu dogrusal reg>> y=b0+b1X1+b2X2+...+bnXn\n",
        "\n",
        "Polinomsal_reg >>y=b0+b1X1+b2X2^2+...+bnXn^n"
      ],
      "metadata": {
        "id": "MJU7j6j_vJgj"
      }
    },
    {
      "cell_type": "code",
      "source": [
        "path_pol_reg=\"/content/polinomsal_regresyon_veriseti_20220209.csv\""
      ],
      "metadata": {
        "id": "gpVTtaNXFQDG"
      },
      "execution_count": null,
      "outputs": []
    },
    {
      "cell_type": "code",
      "source": [
        "from sklearn.preprocessing import PolynomialFeatures#polinomsal reg"
      ],
      "metadata": {
        "id": "ptUvKJnjFQF4"
      },
      "execution_count": null,
      "outputs": []
    },
    {
      "cell_type": "code",
      "source": [
        "df_pol=pd.read_csv(path_pol_reg, sep=\";\")\n",
        "df_pol"
      ],
      "metadata": {
        "id": "W4a7fSlvFQIw"
      },
      "execution_count": null,
      "outputs": []
    },
    {
      "cell_type": "code",
      "source": [
        "x=df_pol.araba_max_hiz.values.reshape(-1,1)\n",
        "y=df_pol.araba_fiyat.values.reshape(-1,1)"
      ],
      "metadata": {
        "id": "AbTLsvHQFQLR"
      },
      "execution_count": null,
      "outputs": []
    },
    {
      "cell_type": "code",
      "source": [
        "#veriyi görsellestirelim\n",
        "plt.scatter(y,x)\n",
        "plt.ylabel(\"Araba Max Hizi\")\n",
        "plt.xlabel(\"Araba Fiyati\")\n",
        "plt.title(\"Araba Hiz ve Fiyat Iliskisi\")\n",
        "plt.grid(True)"
      ],
      "metadata": {
        "colab": {
          "base_uri": "https://localhost:8080/",
          "height": 295
        },
        "id": "oShkeqRcFQOL",
        "outputId": "9b5935a5-032b-455d-b048-6df2a72c8694"
      },
      "execution_count": null,
      "outputs": [
        {
          "output_type": "display_data",
          "data": {
            "text/plain": [
              "<Figure size 432x288 with 1 Axes>"
            ],
            "image/png": "[encoded data removed]"
          },
          "metadata": {
            "needs_background": "light"
          }
        }
      ]
    },
    {
      "cell_type": "code",
      "source": [
        "#polinpmun derecesi belirlenir\n",
        "\n",
        "pol_reg=PolynomialFeatures(degree=5)#4.deereceden bir polinoma fit et"
      ],
      "metadata": {
        "id": "j0dMY8QeFQRW"
      },
      "execution_count": null,
      "outputs": []
    },
    {
      "cell_type": "code",
      "source": [
        "#Belirlenen dereceye göre bagimsiz degisken hazirlanir\n",
        "\n",
        "x_pol=pol_reg.fit_transform(x) #fit_transform cikan ciktilar b#lerin degerini hesaplar\n",
        "x_pol"
      ],
      "metadata": {
        "colab": {
          "base_uri": "https://localhost:8080/"
        },
        "id": "KwyxIDtJIJC4",
        "outputId": "1ea85565-a78c-40da-98c7-635cdedbb125"
      },
      "execution_count": null,
      "outputs": [
        {
          "output_type": "execute_result",
          "data": {
            "text/plain": [
              "array([[1.00000000e+00, 1.80000000e+02, 3.24000000e+04, 5.83200000e+06,\n",
              "        1.04976000e+09, 1.88956800e+11],\n",
              "       [1.00000000e+00, 1.80000000e+02, 3.24000000e+04, 5.83200000e+06,\n",
              "        1.04976000e+09, 1.88956800e+11],\n",
              "       [1.00000000e+00, 2.00000000e+02, 4.00000000e+04, 8.00000000e+06,\n",
              "        1.60000000e+09, 3.20000000e+11],\n",
              "       [1.00000000e+00, 2.00000000e+02, 4.00000000e+04, 8.00000000e+06,\n",
              "        1.60000000e+09, 3.20000000e+11],\n",
              "       [1.00000000e+00, 2.00000000e+02, 4.00000000e+04, 8.00000000e+06,\n",
              "        1.60000000e+09, 3.20000000e+11],\n",
              "       [1.00000000e+00, 2.20000000e+02, 4.84000000e+04, 1.06480000e+07,\n",
              "        2.34256000e+09, 5.15363200e+11],\n",
              "       [1.00000000e+00, 2.40000000e+02, 5.76000000e+04, 1.38240000e+07,\n",
              "        3.31776000e+09, 7.96262400e+11],\n",
              "       [1.00000000e+00, 2.40000000e+02, 5.76000000e+04, 1.38240000e+07,\n",
              "        3.31776000e+09, 7.96262400e+11],\n",
              "       [1.00000000e+00, 3.00000000e+02, 9.00000000e+04, 2.70000000e+07,\n",
              "        8.10000000e+09, 2.43000000e+12],\n",
              "       [1.00000000e+00, 3.50000000e+02, 1.22500000e+05, 4.28750000e+07,\n",
              "        1.50062500e+10, 5.25218750e+12],\n",
              "       [1.00000000e+00, 3.50000000e+02, 1.22500000e+05, 4.28750000e+07,\n",
              "        1.50062500e+10, 5.25218750e+12],\n",
              "       [1.00000000e+00, 3.60000000e+02, 1.29600000e+05, 4.66560000e+07,\n",
              "        1.67961600e+10, 6.04661760e+12],\n",
              "       [1.00000000e+00, 3.65000000e+02, 1.33225000e+05, 4.86271250e+07,\n",
              "        1.77489006e+10, 6.47834873e+12],\n",
              "       [1.00000000e+00, 3.65000000e+02, 1.33225000e+05, 4.86271250e+07,\n",
              "        1.77489006e+10, 6.47834873e+12],\n",
              "       [1.00000000e+00, 3.65000000e+02, 1.33225000e+05, 4.86271250e+07,\n",
              "        1.77489006e+10, 6.47834873e+12]])"
            ]
          },
          "metadata": {},
          "execution_count": 114
        }
      ]
    },
    {
      "cell_type": "code",
      "source": [
        "#Model Egitilir\n",
        "lr2=LinearRegression()\n",
        "lr2.fit(x_pol,y)"
      ],
      "metadata": {
        "colab": {
          "base_uri": "https://localhost:8080/"
        },
        "id": "fSyUdizWIJHG",
        "outputId": "a08fae5b-c619-49bf-bcc8-6eaa16409ad4"
      },
      "execution_count": null,
      "outputs": [
        {
          "output_type": "execute_result",
          "data": {
            "text/plain": [
              "LinearRegression()"
            ]
          },
          "metadata": {},
          "execution_count": 115
        }
      ]
    },
    {
      "cell_type": "code",
      "source": [
        "#tahmin\n",
        "y_tahmin2=lr2.predict(x_pol)\n",
        "\n",
        "plt.scatter(x,y)\n",
        "plt.plot(x,y_tahmin,color=\"r\",label=\"Dogrusal\")\n",
        "plt.plot(x,y_tahmin2,color=\"g\",label=\"Polinomsal\")"
      ],
      "metadata": {
        "colab": {
          "base_uri": "https://localhost:8080/",
          "height": 283
        },
        "id": "8zwTXRsMIJLk",
        "outputId": "68349d82-f189-4355-fff9-a98098642231"
      },
      "execution_count": null,
      "outputs": [
        {
          "output_type": "execute_result",
          "data": {
            "text/plain": [
              "[<matplotlib.lines.Line2D at 0x7f0f71ce3a90>]"
            ]
          },
          "metadata": {},
          "execution_count": 116
        },
        {
          "output_type": "display_data",
          "data": {
            "text/plain": [
              "<Figure size 432x288 with 1 Axes>"
            ],
            "image/png": "[encoded data removed]"
          },
          "metadata": {
            "needs_background": "light"
          }
        }
      ]
    },
    {
      "cell_type": "markdown",
      "source": [
        "#Polynomsal2"
      ],
      "metadata": {
        "id": "ZnxwrbimIJP8"
      }
    },
    {
      "cell_type": "code",
      "source": [
        "# talep miktarı: x\n",
        "quantity = [5,10,15,20,27,35,45,65,95,150,200]\n",
        "# fiyat: y\n",
        "price = [5,10,15,20,25,30,35,40,45,50,55]"
      ],
      "metadata": {
        "id": "dev33pV9IJUW"
      },
      "execution_count": null,
      "outputs": []
    },
    {
      "cell_type": "code",
      "source": [
        "#Dataframe objesi\n",
        "df=pd.DataFrame({\"quantity\": quantity,\n",
        "                 \"price\" :price})"
      ],
      "metadata": {
        "id": "0i9JRDlfIJYy"
      },
      "execution_count": null,
      "outputs": []
    },
    {
      "cell_type": "code",
      "source": [
        "#scatter gösterimi\n",
        "plt.scatter(df[\"quantity\"],\n",
        "            df[\"price\"],\n",
        "            s=100,\n",
        "            c=\"red\",\n",
        "            edgecolors='red'\n",
        "            )\n",
        "plt.title(\"Talep & Fiyat Esnekliği\")\n",
        "plt.xlabel(\"Quantity\")\n",
        "plt.ylabel(\"Price\")\n",
        "plt.grid(True)\n",
        "plt.legend()\n",
        "plt.show()"
      ],
      "metadata": {
        "colab": {
          "base_uri": "https://localhost:8080/",
          "height": 313
        },
        "id": "nqT0GZ7MIJdN",
        "outputId": "d72ffa72-8550-4f53-e0f2-c948e78a69e1"
      },
      "execution_count": null,
      "outputs": [
        {
          "output_type": "stream",
          "name": "stderr",
          "text": [
            "No handles with labels found to put in legend.\n"
          ]
        },
        {
          "output_type": "display_data",
          "data": {
            "text/plain": [
              "<Figure size 432x288 with 1 Axes>"
            ],
            "image/png": "[encoded data removed]"
          },
          "metadata": {
            "needs_background": "light"
          }
        }
      ]
    },
    {
      "cell_type": "code",
      "source": [
        "x=df[[\"quantity\"]]\n",
        "y=df[[\"price\"]]"
      ],
      "metadata": {
        "id": "DnO7oGzcS9L3"
      },
      "execution_count": null,
      "outputs": []
    },
    {
      "cell_type": "code",
      "source": [
        "\n",
        "# Basit doğrusal regresyon analizi\n",
        "from sklearn.linear_model import LinearRegression\n",
        "lin_reg = LinearRegression()\n",
        "lin_reg.fit(x, y)\n",
        "# Regresyon doğrusunun gösterimi\n",
        "def linearRegressionVisual():\n",
        "    plt.scatter(df[\"quantity\"],\n",
        "                df[\"price\"],\n",
        "                s=100,\n",
        "                c=\"red\",\n",
        "                edgecolors='red'\n",
        "                )\n",
        "    plt.plot(x, lin_reg.predict(x), color='blue')\n",
        "    plt.title('Basit Doğrusal Regresyon Sonucu')\n",
        "    plt.xlabel('Miktar')\n",
        "    plt.ylabel('Fiyat')\n",
        "    plt.grid(True)\n",
        "    plt.show()\n",
        "    return\n",
        "linearRegressionVisual()"
      ],
      "metadata": {
        "colab": {
          "base_uri": "https://localhost:8080/",
          "height": 295
        },
        "id": "yl-GzAu3S9SS",
        "outputId": "2a9d87fe-1971-4d18-8f57-45b8f1d0f0c0"
      },
      "execution_count": null,
      "outputs": [
        {
          "output_type": "display_data",
          "data": {
            "text/plain": [
              "<Figure size 432x288 with 1 Axes>"
            ],
            "image/png": "[encoded data removed]"
          },
          "metadata": {
            "needs_background": "light"
          }
        }
      ]
    },
    {
      "cell_type": "code",
      "source": [
        "print(lin_reg.predict([[80]]))"
      ],
      "metadata": {
        "colab": {
          "base_uri": "https://localhost:8080/"
        },
        "id": "ELXeY4WcS9YC",
        "outputId": "8f0a1864-b4c4-4c59-a219-7c08af8be00e"
      },
      "execution_count": null,
      "outputs": [
        {
          "output_type": "stream",
          "name": "stdout",
          "text": [
            "[[34.5537831]]\n"
          ]
        },
        {
          "output_type": "stream",
          "name": "stderr",
          "text": [
            "/usr/local/lib/python3.7/dist-packages/sklearn/base.py:451: UserWarning: X does not have valid feature names, but LinearRegression was fitted with feature names\n",
            "  \"X does not have valid feature names, but\"\n"
          ]
        }
      ]
    },
    {
      "cell_type": "code",
      "source": [
        "#polinpm derecesi belirlendi\n",
        "poly_reg=PolynomialFeatures(4)\n",
        "\n",
        "#belirlenen dereceye göre bagimsiz degisken hazirlanir\n",
        "X_poly=poly_reg.fit_transform(x)\n",
        "\n",
        "#Model Egitilir\n",
        "pol_reg=LinearRegression()\n",
        "pol_reg.fit(X_poly,y)\n",
        "\n",
        "def PolynomialFeaturesVisual():\n",
        "  plt.scatter(df[\"quantity\"],\n",
        "              df[\"price\"],\n",
        "              s=100,\n",
        "              c=\"red\",\n",
        "              edgecolors=\"red\"\n",
        "              )\n",
        "  plt.plot(x,pol_reg.predict(poly_reg.fit_transform(x)),color=\"blue\")\n",
        "  plt.title(\"Polinomsal Regresyon Sonucu\")\n",
        "  plt.xlabel(\"Miktar\")\n",
        "  plt.ylabel(\"Fiyat\")\n",
        "  plt.grid(True)\n",
        "  plt.show\n",
        "  return\n",
        "PolynomialFeaturesVisual()"
      ],
      "metadata": {
        "colab": {
          "base_uri": "https://localhost:8080/",
          "height": 295
        },
        "id": "1v713KNIU-0v",
        "outputId": "b5850b1a-a748-43b3-9206-eec94cccdade"
      },
      "execution_count": null,
      "outputs": [
        {
          "output_type": "display_data",
          "data": {
            "text/plain": [
              "<Figure size 432x288 with 1 Axes>"
            ],
            "image/png": "[encoded data removed]"
          },
          "metadata": {
            "needs_background": "light"
          }
        }
      ]
    },
    {
      "cell_type": "code",
      "source": [
        "print(pol_reg.predict(poly_reg.fit_transform([[80]])))"
      ],
      "metadata": {
        "colab": {
          "base_uri": "https://localhost:8080/"
        },
        "id": "RrTnfPLmU-3r",
        "outputId": "f9a0e1aa-8c85-4aac-fad5-ace4ee5d230b"
      },
      "execution_count": null,
      "outputs": [
        {
          "output_type": "stream",
          "name": "stdout",
          "text": [
            "[[43.10018674]]\n"
          ]
        }
      ]
    },
    {
      "cell_type": "code",
      "source": [
        ""
      ],
      "metadata": {
        "id": "eFb0J56sU-8I"
      },
      "execution_count": null,
      "outputs": []
    },
    {
      "cell_type": "code",
      "source": [
        ""
      ],
      "metadata": {
        "id": "BCvIhgmaU_AW"
      },
      "execution_count": null,
      "outputs": []
    }
  ]
}