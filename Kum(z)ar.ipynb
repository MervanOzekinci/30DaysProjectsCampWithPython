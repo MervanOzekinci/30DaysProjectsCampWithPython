{
  "nbformat": 4,
  "nbformat_minor": 0,
  "metadata": {
    "colab": {
      "name": "Kum(z)ar.ipynb",
      "provenance": []
    },
    "kernelspec": {
      "name": "python3",
      "display_name": "Python 3"
    },
    "language_info": {
      "name": "python"
    }
  },
  "cells": [
    {
      "cell_type": "code",
      "execution_count": 90,
      "metadata": {
        "id": "Qshdf3T7iJbA"
      },
      "outputs": [],
      "source": [
        "import time\n",
        "import random\n",
        "import numpy as np"
      ]
    },
    {
      "cell_type": "code",
      "source": [
        "def canli_para():\n",
        "  print(\"Ne kadar para yatirmak istiyorsunuz? \")\n",
        "  tutar=int(input(\"Para miktari(TL) :\"))\n",
        "  banka_hesabi=input(\"Lütfen Banka Hesabinizi Giriniz: \")\n",
        "  time.sleep(1)\n",
        "  print(\"Isleminiz kontrol ediliyor...\")\n",
        "  time.sleep(3)\n",
        "  print(\"Isleminiz gerceklesiyor...\")\n",
        "  time.sleep(2)\n",
        "  print(\"Güncel Bakiyeniz: \",tutar)\n",
        "  return tutar\n"
      ],
      "metadata": {
        "id": "_H3J-uzplIB0"
      },
      "execution_count": 117,
      "outputs": []
    },
    {
      "cell_type": "code",
      "source": [
        "def bakiye():\n",
        "  \n",
        "  while True:\n",
        "    bakiye=120\n",
        "    kullanici_adi=input(\"Lütfen Kullanici Adinizi Giriniz:\")\n",
        "    time.sleep(1)\n",
        "    sifre=input(\"Sifrenizi giriniz\")\n",
        "    time.sleep(1)\n",
        "    if kullanici_adi==\"Kumarbaz\" and sifre==\"raskolnikov12\":\n",
        "      print(\"Hosgeldin:\",kullanici_adi)\n",
        "      print(\"Bakiyeniz:\",bakiye)\n",
        "      return bakiye\n",
        "      break\n",
        "    else:\n",
        "      print(\"Kullanici Adi veya Sifre Yanlis!\")\n",
        "    \n",
        "\n"
      ],
      "metadata": {
        "id": "Rs3w8hYQnVP-"
      },
      "execution_count": 92,
      "outputs": []
    },
    {
      "cell_type": "code",
      "source": [
        "def Online_Oyna():\n",
        "  print(\"Kum(z)ar Sayfasina Yönlendiriliyorsunuz! \")\n",
        "  print(\"lütfen ilgili Linke Tiklayiniz: \")\n",
        "  print(\"www.example.com\")\n",
        "Online_Oyna()"
      ],
      "metadata": {
        "colab": {
          "base_uri": "https://localhost:8080/",
          "height": 0
        },
        "id": "RBImbqMGnVSm",
        "outputId": "3235c2bd-ac61-4953-84f7-442e7c88baf2"
      },
      "execution_count": 93,
      "outputs": [
        {
          "output_type": "stream",
          "name": "stdout",
          "text": [
            "Kum(z)ar Sayfasina Yönlendiriliyorsunuz! \n",
            "lütfen ilgili Linke Tiklayiniz: \n",
            "www.example.com\n"
          ]
        }
      ]
    },
    {
      "cell_type": "code",
      "source": [
        "print(\"Kum(z)ar'a Hos Geldiniz\")\n",
        "time.sleep(1)\n",
        "print(\"\"\"\n",
        "1.Canli Para ile Oyna\n",
        "2.Var Olan Bakiyen Ile Oyna\n",
        "3-Online Oyna\n",
        "\n",
        "\"\"\")\n",
        "time.sleep(1)\n",
        "\n",
        "veri=input(\"Seciminiz: \")\n"
      ],
      "metadata": {
        "colab": {
          "base_uri": "https://localhost:8080/",
          "height": 0
        },
        "id": "75Z-2GVGiNi4",
        "outputId": "d8a4bfa7-3674-498a-c55e-38e675d1a4c3"
      },
      "execution_count": 94,
      "outputs": [
        {
          "name": "stdout",
          "output_type": "stream",
          "text": [
            "Kum(z)ar'a Hos Geldiniz\n",
            "\n",
            "1.Canli Para ile Oyna\n",
            "2.Var Olan Bakiyen Ile Oyna\n",
            "3-Online Oyna\n",
            "\n",
            "\n",
            "Seciminiz: 2\n"
          ]
        }
      ]
    },
    {
      "cell_type": "code",
      "source": [
        "def zar():\n",
        "  print(\"Zariniz Atiliyor!\")\n",
        "  time.sleep(1)\n",
        "  oyuncu_zari=np.random.randint(1,7,2)\n",
        "  sum_oyuncu=sum(oyuncu_zari)\n",
        "  print(\"Zarlarinizin toplami\",sum(oyuncu_zari))\n",
        "  time.sleep(1)\n",
        "  print(\"\\n\")\n",
        "  print(\"Sira Bilgisayarda\")\n",
        "  time.sleep(1)\n",
        "  print(\"Zar atiliyor...\")\n",
        "  time.sleep(1)\n",
        "  bilgisayar=np.random.randint(1,7,2)\n",
        "  sum_bilgisayar=sum(bilgisayar)\n",
        "  print(\"Bilgisayar Zar toplami:\",sum_bilgisayar)\n",
        "  return sum_oyuncu,sum_bilgisayar\n",
        "\n",
        "\n"
      ],
      "metadata": {
        "colab": {
          "base_uri": "https://localhost:8080/",
          "height": 0
        },
        "id": "THIwRaQ5iQJl",
        "outputId": "38c0be44-7992-4122-8e8b-07ff35a0fc24"
      },
      "execution_count": 95,
      "outputs": [
        {
          "output_type": "stream",
          "name": "stdout",
          "text": [
            "Zariniz Atiliyor!\n",
            "Zarlarinizin toplami 4\n",
            "\n",
            "\n",
            "Sira Bilgisayarda\n",
            "Zar atiliyor...\n",
            "Bilgisayar Zar toplami: 6\n"
          ]
        },
        {
          "output_type": "execute_result",
          "data": {
            "text/plain": [
              "(4, 6)"
            ]
          },
          "metadata": {},
          "execution_count": 95
        }
      ]
    },
    {
      "cell_type": "code",
      "source": [
        ""
      ],
      "metadata": {
        "colab": {
          "base_uri": "https://localhost:8080/",
          "height": 0
        },
        "id": "qC9sYAGZHvsl",
        "outputId": "16e59a30-1021-4c0b-e59e-2f38e635e119"
      },
      "execution_count": 120,
      "outputs": [
        {
          "output_type": "execute_result",
          "data": {
            "text/plain": [
              "(21, 6)"
            ]
          },
          "metadata": {},
          "execution_count": 120
        }
      ]
    },
    {
      "cell_type": "code",
      "source": [
        "\n",
        "def oyna():\n",
        "  \n",
        "  print(\"Kum(z)ar'a Hos Geldiniz\")\n",
        "  time.sleep(1)\n",
        "  print(\"\"\"\n",
        "  1.Canli Para ile Oyna\n",
        "  2.Var Olan Bakiyen Ile Oyna\n",
        "  3-Online Oyna\n",
        "  4-Masayi Terket\n",
        "\n",
        "  \"\"\")\n",
        "  time.sleep(1)\n",
        "\n",
        "  veri=input(\"Seciminiz: \")\n"
      ],
      "metadata": {
        "id": "g6bIF4LMiQGr"
      },
      "execution_count": null,
      "outputs": []
    },
    {
      "cell_type": "code",
      "source": [
        "user=0\n",
        "system=0\n",
        "i=0\n",
        "while i<5:\n",
        "  \n",
        "  if veri==\"1\":\n",
        "    canli_para()\n",
        "    a,b=zar()\n",
        "    if a>b:\n",
        "      score=+1\n",
        "      \n",
        "      print(\"tebrikler Kazandiniz\")\n",
        "      print(\"Yeni bakiyeniz:\",canli_para()+5)\n",
        "      print(f'Puaniniz:{user} bilgisayar{score}')\n",
        "    elif a<b:\n",
        "      system+=1\n",
        "      print(\"Kaybettiniz:(\")\n",
        "      print(\"Kalan Bakiye\",canli_para()-5)\n",
        "    else:\n",
        "      print(\"Beraberlik\")\n",
        "  elif veri==\"2\":\n",
        "    bakiye()\n",
        "    a,b=zar()\n",
        "\n",
        "    if a>b:\n",
        "      score=+1\n",
        "      print(\"tebrikler Kazandiniz\")\n",
        "      print(\"Yeni bakiyeniz:\",canli_para()+5)\n",
        "\n",
        "    elif a<b:\n",
        "      system+=1\n",
        "      print(\"Kaybettiniz:(\")\n",
        "      print(\"Kalan Bakiye\",canli_para()-5)\n",
        "    else:\n",
        "      print(\"Beraberlik\")\n",
        "  elif veri==\"3\":\n",
        "    Online_Oyna()\n",
        "  else:\n",
        "    \n",
        "    print(\"iyi günler dileriz\")\n",
        "    break\n",
        "  \n",
        "oyna()\n",
        "    \n"
      ],
      "metadata": {
        "id": "yfiyrAYNiQMZ"
      },
      "execution_count": null,
      "outputs": []
    },
    {
      "cell_type": "code",
      "source": [
        " "
      ],
      "metadata": {
        "id": "iMxhJzvUiQPo"
      },
      "execution_count": null,
      "outputs": []
    },
    {
      "cell_type": "code",
      "source": [
        ""
      ],
      "metadata": {
        "id": "cVy1mmxRiQSV"
      },
      "execution_count": 98,
      "outputs": []
    },
    {
      "cell_type": "code",
      "source": [
        ""
      ],
      "metadata": {
        "id": "Sz-rl3EyiOHF"
      },
      "execution_count": 98,
      "outputs": []
    }
  ]
}