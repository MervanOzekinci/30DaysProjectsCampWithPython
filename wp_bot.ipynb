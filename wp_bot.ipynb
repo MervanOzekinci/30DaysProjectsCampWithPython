{
 "cells": [
  {
   "cell_type": "code",
   "execution_count": 1,
   "metadata": {},
   "outputs": [],
   "source": [
    "import selenium"
   ]
  },
  {
   "cell_type": "code",
   "execution_count": 1,
   "metadata": {},
   "outputs": [],
   "source": [
    "from selenium import webdriver\n",
    "from selenium.webdriver.support.ui import WebDriverWait\n",
    "from selenium.webdriver.support import expected_conditions as EC\n",
    "from selenium.webdriver.common.keys import Keys\n",
    "from selenium.webdriver.common.by import By\n",
    "import time\n"
   ]
  },
  {
   "cell_type": "code",
   "execution_count": 16,
   "metadata": {},
   "outputs": [],
   "source": [
    "driver=webdriver.Chrome()\n",
    "url=\"https://web.whatsapp.com/\"\n",
    "driver.get(url)\n",
    "time.sleep(80)\n",
    "\n",
    "searchInput=driver.find_element_by_xpath(\"//*[@id='side']/div[1]/div/div/div[2]/div/div[2]\")\n",
    "time.sleep(4)\n",
    "\n",
    "\n",
    "#Gönderecegimiz kisinin ad bilgileri\n",
    "isim=input(\"Kime Mesaj Göndermek Istiyorsunuz?\")\n",
    "searchInput.send_keys(isim)\n",
    "searchInput.send_keys(Keys.ENTER)\n",
    "time.sleep(2)\n",
    "\n",
    "message_xpath=\"//*[@id='main']/footer/div[1]/div/span[2]/div/div[2]/div[1]/div/div[1]/p\"\n",
    "time.sleep(2)\n",
    "i=0\n",
    "\n",
    "#Mesajimiz tekrarlansin mi\n",
    "sayi=int(input(\"Mesajiniz Kac defa Tekrarlansin?\"))\n",
    "\n",
    "#Mesajin icerigi\n",
    "mesaj=input(\"Mesajinizin icerigi nedir? :\")\n",
    "while i<sayi:\n",
    "    i+=1\n",
    "    message_input=driver.find_element_by_xpath(message_xpath)\n",
    "    message_input.send_keys(mesaj)\n",
    "    time.sleep(1)\n",
    "    message_input.send_keys(Keys.ENTER)\n",
    "\n",
    "time.sleep(1)\n",
    "driver.close()"
   ]
  },
  {
   "cell_type": "code",
   "execution_count": null,
   "metadata": {},
   "outputs": [],
   "source": []
  },
  {
   "cell_type": "code",
   "execution_count": null,
   "metadata": {},
   "outputs": [],
   "source": []
  }
 ],
 "metadata": {
  "kernelspec": {
   "display_name": "Python 3.7.13 ('base')",
   "language": "python",
   "name": "python3"
  },
  "language_info": {
   "codemirror_mode": {
    "name": "ipython",
    "version": 3
   },
   "file_extension": ".py",
   "mimetype": "text/x-python",
   "name": "python",
   "nbconvert_exporter": "python",
   "pygments_lexer": "ipython3",
   "version": "3.7.13"
  },
  "orig_nbformat": 4,
  "vscode": {
   "interpreter": {
    "hash": "1fb28baf41d93f01b5db3741867165480e3e174a4a432fbeab78b7e6d01310f9"
   }
  }
 },
 "nbformat": 4,
 "nbformat_minor": 2
}
