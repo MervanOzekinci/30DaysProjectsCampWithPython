{
  "nbformat": 4,
  "nbformat_minor": 0,
  "metadata": {
    "colab": {
      "name": "UserNameGenerator.ipynb",
      "provenance": [],
      "collapsed_sections": []
    },
    "kernelspec": {
      "name": "python3",
      "display_name": "Python 3"
    },
    "language_info": {
      "name": "python"
    }
  },
  "cells": [
    {
      "cell_type": "code",
      "execution_count": 30,
      "metadata": {
        "colab": {
          "base_uri": "https://localhost:8080/"
        },
        "id": "jWMaIlonN9kd",
        "outputId": "043b20db-c948-4be6-f923-181a816b7eea"
      },
      "outputs": [
        {
          "output_type": "stream",
          "name": "stdout",
          "text": [
            "Looking in indexes: https://pypi.org/simple, https://us-python.pkg.dev/colab-wheels/public/simple/\n",
            "Requirement already satisfied: names in /usr/local/lib/python3.7/dist-packages (0.3.0)\n"
          ]
        }
      ],
      "source": [
        "pip install names# name generator library installed\n"
      ]
    },
    {
      "cell_type": "code",
      "source": [
        "#importing of Libraries\n",
        "import random \n",
        "import names\n",
        "import numpy as np\n"
      ],
      "metadata": {
        "id": "beAKNWvERWsL"
      },
      "execution_count": 34,
      "outputs": []
    },
    {
      "cell_type": "code",
      "source": [
        "#Getting a list of names from names library\n",
        "a=[]\n",
        "for i in range(1000):\n",
        "  name=names.get_full_name().replace(\" \",\"\")\n",
        "  a.append(name)\n",
        "\n",
        "\n",
        "def user_name_generator(many_names=10):#Create 10 names as defaul\n",
        "  for i in range(many_names):\n",
        "    number=np.random.randint(1,1000)\n",
        "    print(a[i]+str(number))\n",
        "\n",
        "\n",
        "user_name_generator(10)#calling the function"
      ],
      "metadata": {
        "colab": {
          "base_uri": "https://localhost:8080/"
        },
        "id": "aHNN7zuQOBmS",
        "outputId": "e85efbe0-2a75-4023-9c36-04cea57ea994"
      },
      "execution_count": 72,
      "outputs": [
        {
          "output_type": "stream",
          "name": "stdout",
          "text": [
            "RogerJackson536\n",
            "CharlotteMalone39\n",
            "PerryObrien297\n",
            "PamelaSlaughter598\n",
            "DonnaLowry604\n",
            "NanetteKochan514\n",
            "LarryFarley207\n",
            "PerryRivers841\n",
            "JosephHarper252\n",
            "BeulahMartinez907\n"
          ]
        }
      ]
    },
    {
      "cell_type": "code",
      "source": [
        ""
      ],
      "metadata": {
        "id": "L9mJsTN_OBrk"
      },
      "execution_count": 64,
      "outputs": []
    },
    {
      "cell_type": "code",
      "source": [
        ""
      ],
      "metadata": {
        "id": "u6IGWK56OBuq"
      },
      "execution_count": null,
      "outputs": []
    }
  ]
}