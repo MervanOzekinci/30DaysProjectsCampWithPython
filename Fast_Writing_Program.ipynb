{
  "nbformat": 4,
  "nbformat_minor": 0,
  "metadata": {
    "colab": {
      "name": "Fast_Writing_Program.ipynb",
      "provenance": []
    },
    "kernelspec": {
      "name": "python3",
      "display_name": "Python 3"
    },
    "language_info": {
      "name": "python"
    }
  },
  "cells": [
    {
      "cell_type": "code",
      "execution_count": 1,
      "metadata": {
        "id": "4S4FJeH6dItE"
      },
      "outputs": [],
      "source": [
        "import time\n",
        "import numpy as np\n"
      ]
    },
    {
      "cell_type": "code",
      "source": [
        "print(\"**********************************\")\n",
        "print(\"Welcome to the Fast Writing Program\")\n",
        "print(\"**********************************\\n\")\n",
        "time.sleep(1)\n",
        "\n",
        "def fast_writing():\n",
        "\n",
        "  print(\"----------------------------------------\")\n",
        "  print(\"We'll Check How Fast you Type :)\\n \")\n",
        "  time.sleep(1)\n",
        "  print(\"Countdown Begins !!!\")\n",
        "  time.sleep(1)\n",
        "  print(\"3...\")\n",
        "  time.sleep(1)\n",
        "  print(\"2...\")\n",
        "  time.sleep(1)\n",
        "  print(\"1...\")\n",
        "  time.sleep(1)\n",
        "  print(\"Start !\")\n",
        "  print(\"----------------------------------------\\n\")\n",
        "  start=time.time()\n",
        "  data= input(\"\")\n",
        "  finish=time.time()\n",
        "  print(\"being calculated...\")\n",
        "  gecen_sure=round(finish-start,2)\n",
        "  print(\"Your Writing Speed:\",str((gecen_sure)) +\" sn\")\n",
        "\n",
        "  time.sleep(1)\n",
        "  top_harf=len(data)\n",
        "  print(\"Total Number of characters entered :\",top_harf)\n",
        "  time.sleep(1)\n",
        "  s_karakter=top_harf/gecen_sure\n",
        "  print(\"The average number of characters you type in one second... : \",round(s_karakter,1))"
      ],
      "metadata": {
        "colab": {
          "base_uri": "https://localhost:8080/"
        },
        "id": "9n3dNWafdZIW",
        "outputId": "f71935fe-d695-4c46-dede-c3b7f390a3a0"
      },
      "execution_count": 89,
      "outputs": [
        {
          "output_type": "stream",
          "name": "stdout",
          "text": [
            "**********************************\n",
            "Welcome to the Fast Writing Program\n",
            "**********************************\n",
            "\n"
          ]
        }
      ]
    },
    {
      "cell_type": "code",
      "source": [
        "while True:\n",
        "  print(\"\"\"\n",
        "      1-Just try to type anything\n",
        "      2- If you dont know what to type,than press '2'\n",
        "      3-Exit\n",
        "        \"\"\")\n",
        "  print(\"\\n\")\n",
        "  select=(input(\"Your Choice : \"))\n",
        "  if(select ==\"1\"):\n",
        "    fast_writing()\n",
        "\n",
        "  elif(select==\"2\"):\n",
        "      print(\"\"\"\n",
        "      Bizim gönlümüze hasret düşüren\n",
        "      Şu geçit vermeyen dağlar utansın\n",
        "      Bizi bizden alıp yabancı eden\n",
        "      Şu uzayıp giden yollar utansın\n",
        "      \n",
        "      Yar yanımda yoksa en büyük hasret\n",
        "      Sevdasız geçecek ömüre hayret\n",
        "      Gönülde açmazsa solacak elbet\n",
        "      Çiçeklerle dolu dallar utansın\n",
        "      \n",
        "      Author:Müslüm Gürses\n",
        "      \"\"\")\n",
        "      fast_writing()\n",
        "  elif(select ==\"3\"):\n",
        "    print(\"Thanks for using our 'Fast Writing Program'\")\n",
        "    break\n",
        "\n",
        "  else:\n",
        "    print(\"Please enter a valid choice\")"
      ],
      "metadata": {
        "colab": {
          "base_uri": "https://localhost:8080/"
        },
        "id": "RtTPi0vpuyEw",
        "outputId": "1300a993-d408-4514-8b39-6b44da732330"
      },
      "execution_count": 93,
      "outputs": [
        {
          "output_type": "stream",
          "name": "stdout",
          "text": [
            "\n",
            "      1-Just try to type anything\n",
            "      2- If you dont know what to type,than press '2'\n",
            "      3-Exit\n",
            "        \n",
            "\n",
            "\n",
            "Your Choice : as\n",
            "Please enter a valid choice\n",
            "\n",
            "      1-Just try to type anything\n",
            "      2- If you dont know what to type,than press '2'\n",
            "      3-Exit\n",
            "        \n",
            "\n",
            "\n",
            "Your Choice : 1\n",
            "----------------------------------------\n",
            "We'll Check How Fast you Type :)\n",
            " \n",
            "Countdown Begins !!!\n",
            "3...\n",
            "2...\n",
            "1...\n",
            "Start !\n",
            "----------------------------------------\n",
            "\n",
            "Selam ben Mervan ÖZekinci\n",
            "being calculated...\n",
            "Your Writing Speed: 4.97 sn\n",
            "Total Number of characters entered : 25\n",
            "The average number of characters you type in one second... :  5.0\n",
            "\n",
            "      1-Just try to type anything\n",
            "      2- If you dont know what to type,than press '2'\n",
            "      3-Exit\n",
            "        \n",
            "\n",
            "\n",
            "Your Choice : 2\n",
            "\n",
            "      Bizim gönlümüze hasret düşüren\n",
            "      Şu geçit vermeyen dağlar utansın\n",
            "      Bizi bizden alıp yabancı eden\n",
            "      Şu uzayıp giden yollar utansın\n",
            "      \n",
            "      Yar yanımda yoksa en büyük hasret\n",
            "      Sevdasız geçecek ömüre hayret\n",
            "      Gönülde açmazsa solacak elbet\n",
            "      Çiçeklerle dolu dallar utansın\n",
            "      \n",
            "      Author:Müslüm Gürses\n",
            "      \n",
            "----------------------------------------\n",
            "We'll Check How Fast you Type :)\n",
            " \n",
            "Countdown Begins !!!\n",
            "3...\n",
            "2...\n",
            "1...\n",
            "Start !\n",
            "----------------------------------------\n",
            "\n",
            "Bizim gönlümüze hasret düsüren su uzayipi giden yollar utansin\n",
            "being calculated...\n",
            "Your Writing Speed: 10.57 sn\n",
            "Total Number of characters entered : 62\n",
            "The average number of characters you type in one second... :  5.9\n",
            "\n",
            "      1-Just try to type anything\n",
            "      2- If you dont know what to type,than press '2'\n",
            "      3-Exit\n",
            "        \n",
            "\n",
            "\n",
            "Your Choice : a\n",
            "Please enter a valid choice\n",
            "\n",
            "      1-Just try to type anything\n",
            "      2- If you dont know what to type,than press '2'\n",
            "      3-Exit\n",
            "        \n",
            "\n",
            "\n",
            "Your Choice : aba\n",
            "Please enter a valid choice\n",
            "\n",
            "      1-Just try to type anything\n",
            "      2- If you dont know what to type,than press '2'\n",
            "      3-Exit\n",
            "        \n",
            "\n",
            "\n",
            "Your Choice : 3\n",
            "Thanks for using our 'Fast Writing Program'\n"
          ]
        }
      ]
    }
  ]
}