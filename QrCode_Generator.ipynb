{
  "nbformat": 4,
  "nbformat_minor": 0,
  "metadata": {
    "colab": {
      "name": "QrCode_Generator.ipynb",
      "provenance": []
    },
    "kernelspec": {
      "name": "python3",
      "display_name": "Python 3"
    },
    "language_info": {
      "name": "python"
    }
  },
  "cells": [
    {
      "cell_type": "code",
      "execution_count": 12,
      "metadata": {
        "colab": {
          "base_uri": "https://localhost:8080/"
        },
        "id": "WeEDe0ifbvTr",
        "outputId": "0bfdf2af-6fdd-4c08-df1e-f7420115e84b"
      },
      "outputs": [
        {
          "output_type": "stream",
          "name": "stdout",
          "text": [
            "Looking in indexes: https://pypi.org/simple, https://us-python.pkg.dev/colab-wheels/public/simple/\n",
            "Requirement already satisfied: qrcode in /usr/local/lib/python3.7/dist-packages (7.3.1)\n"
          ]
        }
      ],
      "source": [
        "pip install qrcode\n"
      ]
    },
    {
      "cell_type": "code",
      "source": [
        "import qrcode\n",
        "\n",
        "data=\"https://github.com/MervanOzekinci/30DaysProjectsCampWithPython\"\n",
        "\n",
        "image=qrcode.make(data)\n",
        "image.save(\"qrcode.png\")\n",
        "image.show()"
      ],
      "metadata": {
        "id": "pUOxdzXRb0I3"
      },
      "execution_count": 13,
      "outputs": []
    },
    {
      "cell_type": "markdown",
      "source": [
        "#2.Yöntem"
      ],
      "metadata": {
        "id": "31-OIQjZby7q"
      }
    },
    {
      "cell_type": "code",
      "source": [
        "from qrcode import constants\n",
        "\n",
        "code=qrcode.QRCode(version=2,\n",
        "                   error_correction=constants.ERROR_CORRECT_M,#hata düzeltme \n",
        "                   box_size=10,border=5)\n",
        "\n",
        "code.add_data(\"https://mervanozekinci.wordpress.com/2017/09/27/makedonya-ohrid-gezisi/\")\n",
        "\n",
        "code.make(fit=True)\n",
        "\n",
        "image=code.make_image(fill_color=\"blue\",back_color=\"yellow\")\n",
        "image.save(\"qrcode2.png\")\n"
      ],
      "metadata": {
        "id": "6O6UExe9by-a"
      },
      "execution_count": 14,
      "outputs": []
    },
    {
      "cell_type": "code",
      "source": [
        ""
      ],
      "metadata": {
        "id": "m3HBzMN8bzBP"
      },
      "execution_count": null,
      "outputs": []
    },
    {
      "cell_type": "code",
      "source": [
        ""
      ],
      "metadata": {
        "id": "J7UdKcVSbzEA"
      },
      "execution_count": null,
      "outputs": []
    }
  ]
}