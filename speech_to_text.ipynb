{
 "cells": [
  {
   "cell_type": "code",
   "execution_count": 7,
   "metadata": {},
   "outputs": [
    {
     "name": "stdout",
     "output_type": "stream",
     "text": [
      "Collecting SpeechRecognition\n",
      "  Downloading SpeechRecognition-3.8.1-py2.py3-none-any.whl (32.8 MB)\n",
      "Installing collected packages: SpeechRecognition\n",
      "Successfully installed SpeechRecognition-3.8.1\n",
      "Note: you may need to restart the kernel to use updated packages.\n"
     ]
    }
   ],
   "source": [
    "pip install SpeechRecognition\n",
    "pip install pyaudio"
   ]
  },
  {
   "cell_type": "code",
   "execution_count": 23,
   "metadata": {},
   "outputs": [],
   "source": [
    "import speech_recognition as sr\n",
    "from selenium import webdriver\n",
    "from selenium.webdriver.support.ui import WebDriverWait\n",
    "from selenium.webdriver.support import expected_conditions as EC\n",
    "from selenium.webdriver.common.keys import Keys\n",
    "from selenium.webdriver.common.by import By\n",
    "import time\n",
    "\n"
   ]
  },
  {
   "cell_type": "code",
   "execution_count": 55,
   "metadata": {},
   "outputs": [
    {
     "name": "stdout",
     "output_type": "stream",
     "text": [
      "\n",
      "      1-Sesli Komut Ile Yazi Yazma\n",
      "      2-Sesli Komut Asistani Arya\n",
      "      3-Cikis     \n",
      "      \n",
      "Merhaba ben Arya, sizin icin ne yapmami dilersiniz?\n",
      "Simdi Konusabilirsiniz...\n",
      "Aranilacak sey:  Almanya'da yaşam\n",
      "Isteginiz gerceklesti!!!\n",
      "Arya Sesli Asistani Kullandigin icin Tesekkür ederim!\n"
     ]
    }
   ],
   "source": [
    "print(\"\"\"\n",
    "      1-Sesli Komut Ile Yazi Yazma\n",
    "      2-Sesli Komut Asistani Arya\n",
    "      3-Cikis     \n",
    "      \"\"\")\n",
    "\n",
    "\n",
    "\n",
    "\n",
    "while True:\n",
    "    r = sr.Recognizer()\n",
    "    choice=input(\"Seciminiz: \")\n",
    "    if choice==\"1\":\n",
    "        \n",
    "        with sr.Microphone() as source:\n",
    "            r.adjust_for_ambient_noise(source)\n",
    "            print(\"Merhaba ben Arya sizi dinliyorum. Lütfen Mikrofona Konusunuz!\")\n",
    "            data = r.record(source, duration=5)\n",
    "            print(\"Ses Yaziliya dökülüyor\")\n",
    "            \n",
    "            text = r.recognize_google(data,language=\"tr\")\n",
    "            print(\"Bunu mu demek istediniz? \")\n",
    "            print(text)\n",
    "            \n",
    "            \n",
    "    elif choice==\"2\":\n",
    "        with sr.Microphone() as source:\n",
    "            r.adjust_for_ambient_noise(source)\n",
    "            print(\"Merhaba ben Arya, sizin icin ne yapmami dilersiniz?\")\n",
    "            print(\"Simdi Konusabilirsiniz...\")\n",
    "            data = r.record(source, duration=5)\n",
    "            print(\"Aranilacak sey: \",text)\n",
    "            \n",
    "            \n",
    "            driver=webdriver.Chrome()\n",
    "            url=\"https://www.google.com/\"\n",
    "            driver.get(url)\n",
    "            \n",
    "            reject=driver.find_element_by_xpath(\"//*[@id='W0wltc']\")\n",
    "            reject.send_keys(Keys.ENTER)\n",
    "            \n",
    "            search_input=driver.find_element_by_xpath(\"/html/body/div[1]/div[3]/form/div[1]/div[1]/div[1]/div/div[2]/input\")\n",
    "            search_input.send_keys(text)\n",
    "            search_input.send_keys(Keys.ENTER)\n",
    "            time.sleep(3)\n",
    "            print(\"Isteginiz gerceklesti!!!\")\n",
    "    else:\n",
    "        print(\"Arya Sesli Asistani Kullandigin icin Tesekkür ederim!\")\n",
    "        break\n",
    "    \n",
    "\n",
    " \n",
    "\n",
    "    \n",
    "     \n",
    " "
   ]
  },
  {
   "cell_type": "code",
   "execution_count": null,
   "metadata": {},
   "outputs": [],
   "source": []
  },
  {
   "cell_type": "code",
   "execution_count": null,
   "metadata": {},
   "outputs": [],
   "source": []
  }
 ],
 "metadata": {
  "kernelspec": {
   "display_name": "Python 3.7.13 ('base')",
   "language": "python",
   "name": "python3"
  },
  "language_info": {
   "codemirror_mode": {
    "name": "ipython",
    "version": 3
   },
   "file_extension": ".py",
   "mimetype": "text/x-python",
   "name": "python",
   "nbconvert_exporter": "python",
   "pygments_lexer": "ipython3",
   "version": "3.7.13"
  },
  "orig_nbformat": 4,
  "vscode": {
   "interpreter": {
    "hash": "1fb28baf41d93f01b5db3741867165480e3e174a4a432fbeab78b7e6d01310f9"
   }
  }
 },
 "nbformat": 4,
 "nbformat_minor": 2
}
